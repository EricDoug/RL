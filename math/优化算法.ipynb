{
 "cells": [
  {
   "cell_type": "markdown",
   "metadata": {},
   "source": [
    "# 优化算法\n",
    "\n",
    "在深度学习中，随着网络的加深，目标函数不再是凸函数，优化曲面变得更复杂，别说寻找一个优秀的优化算法，完成正常的优化都变得困难。下面介绍常用的优化算法： 梯度下降法、动量法、共轭梯度法、自然梯度算法。\n",
    "\n",
    "## 梯度下降法\n",
    "\n",
    "在高等数学中，我们知道函数的梯度方向表示函数值增长速度最快的方向，那么和它相反的方向可以看作函数值减少速度最快的方向。当目标设定为求解目标函数最小值时，只要朝着梯度下降的方向前进，就能不断逼近最优值。下面我们用梯度下降法求解 $f(x)=x^2 - 2x + 1$ 的最小值："
   ]
  },
  {
   "cell_type": "code",
   "execution_count": 5,
   "metadata": {},
   "outputs": [],
   "source": [
    "def gd(x_start, step, epoch, g):\n",
    "    \"\"\"梯度下降函数\n",
    "    \n",
    "    计算函数的梯度\n",
    "    \n",
    "    Args:\n",
    "         x_start: 初始值\n",
    "         step: 步长\n",
    "         epoch: 跌倒次数\n",
    "         g: 梯度函数（求导）\n",
    "    Returns:\n",
    "         梯度值\n",
    "    \"\"\"\n",
    "    x = x_start\n",
    "    for i in range(epoch):\n",
    "        grad = g(x)\n",
    "        x -= grad * step\n",
    "        print(\"[Epoch {0}] grad = {1}, x = {2}\".format(i, grad, x))\n",
    "        if abs(grad) < 1e-6:\n",
    "            break\n",
    "    return x\n",
    "    "
   ]
  },
  {
   "cell_type": "markdown",
   "metadata": {},
   "source": [
    "$f(x) = x^2 - 2x + 1$的梯度(求导)等于 $$g(x) = 2x - 2$$"
   ]
  },
  {
   "cell_type": "code",
   "execution_count": 18,
   "metadata": {},
   "outputs": [],
   "source": [
    "def f(x):\n",
    "    \"\"\"目标函数\n",
    "    \n",
    "    目标函数式子\n",
    "    \n",
    "    Args:\n",
    "        x: 输入变量\n",
    "    Returns:\n",
    "        y: 输出变量\n",
    "    \"\"\"\n",
    "    y = x * x - 2 * x + 1\n",
    "    return y\n",
    "def g(x):\n",
    "    \"\"\"f(x)梯度\n",
    "    \n",
    "    Args:\n",
    "        x: 输入变量\n",
    "        y: f(x)的梯度\n",
    "    \"\"\"\n",
    "    y = 2 * x - 2\n",
    "    return y    "
   ]
  },
  {
   "cell_type": "code",
   "execution_count": 19,
   "metadata": {},
   "outputs": [
    {
     "data": {
      "text/plain": [
       "Text(0,0.5,'f(x)')"
      ]
     },
     "execution_count": 19,
     "metadata": {},
     "output_type": "execute_result"
    },
    {
     "data": {
      "image/png": "[encoded data removed]",
      "text/plain": [
       "<Figure size 432x288 with 1 Axes>"
      ]
     },
     "metadata": {},
     "output_type": "display_data"
    }
   ],
   "source": [
    "%matplotlib inline\n",
    "import numpy as np\n",
    "import matplotlib.pyplot as plt\n",
    "x = np.linspace(-5, 7, 100)\n",
    "y = f(x)\n",
    "plt.plot(x, y)\n",
    "plt.xlabel('x')\n",
    "plt.ylabel('f(x)')"
   ]
  },
  {
   "cell_type": "markdown",
   "metadata": {},
   "source": [
    "很直观的能够发现当$x=1$时，$f(x)$取得最小值。下面使用梯度下降法来求解："
   ]
  },
  {
   "cell_type": "code",
   "execution_count": 23,
   "metadata": {},
   "outputs": [
    {
     "name": "stdout",
     "output_type": "stream",
     "text": [
      "[Epoch 0] grad = 8, x = 4.2\n",
      "[Epoch 1] grad = 6.4, x = 3.56\n",
      "[Epoch 2] grad = 5.12, x = 3.048\n",
      "[Epoch 3] grad = 4.096, x = 2.6384\n",
      "[Epoch 4] grad = 3.2767999999999997, x = 2.31072\n",
      "[Epoch 5] grad = 2.6214399999999998, x = 2.0485759999999997\n",
      "[Epoch 6] grad = 2.0971519999999995, x = 1.8388607999999997\n",
      "[Epoch 7] grad = 1.6777215999999995, x = 1.6710886399999998\n",
      "[Epoch 8] grad = 1.3421772799999996, x = 1.536870912\n",
      "[Epoch 9] grad = 1.0737418239999998, x = 1.4294967295999998\n",
      "[Epoch 10] grad = 0.8589934591999997, x = 1.34359738368\n",
      "[Epoch 11] grad = 0.6871947673599998, x = 1.274877906944\n",
      "[Epoch 12] grad = 0.5497558138879999, x = 1.2199023255552\n",
      "[Epoch 13] grad = 0.4398046511103999, x = 1.17592186044416\n",
      "[Epoch 14] grad = 0.35184372088831983, x = 1.1407374883553278\n",
      "[Epoch 15] grad = 0.2814749767106557, x = 1.1125899906842622\n",
      "[Epoch 16] grad = 0.22517998136852446, x = 1.0900719925474098\n",
      "[Epoch 17] grad = 0.18014398509481966, x = 1.0720575940379278\n",
      "[Epoch 18] grad = 0.14411518807585555, x = 1.0576460752303423\n",
      "[Epoch 19] grad = 0.11529215046068453, x = 1.0461168601842739\n"
     ]
    },
    {
     "data": {
      "text/plain": [
       "1.0461168601842739"
      ]
     },
     "execution_count": 23,
     "metadata": {},
     "output_type": "execute_result"
    }
   ],
   "source": [
    "gd(5, 0.1, 20, g)"
   ]
  },
  {
   "cell_type": "markdown",
   "metadata": {},
   "source": [
    "可以看到，初始值$x$从5除非，梯度值不断下降，经过20轮迭代，$x$不断逼近最优值$x=1$"
   ]
  },
  {
   "cell_type": "code",
   "execution_count": null,
   "metadata": {},
   "outputs": [],
   "source": []
  }
 ],
 "metadata": {
  "kernelspec": {
   "display_name": "Python 3",
   "language": "python",
   "name": "python3"
  },
  "language_info": {
   "codemirror_mode": {
    "name": "ipython",
    "version": 3
   },
   "file_extension": ".py",
   "mimetype": "text/x-python",
   "name": "python",
   "nbconvert_exporter": "python",
   "pygments_lexer": "ipython3",
   "version": "3.6.2"
  }
 },
 "nbformat": 4,
 "nbformat_minor": 2
}
